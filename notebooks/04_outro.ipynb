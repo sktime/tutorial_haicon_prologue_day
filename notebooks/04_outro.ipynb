{
 "cells": [
  {
   "cell_type": "markdown",
   "metadata": {},
   "source": [
    "![](./img/roadmap.png)"
   ]
  },
  {
   "cell_type": "markdown",
   "metadata": {},
   "source": [
    "## getting started\n",
    "\n",
    "* Tutorials on binder https://mybinder.org/v2/gh/sktime/sktime/main?filepath=examples \n",
    "* Video intros https://www.youtube.com/playlist?list=PLKs3UgGjlWHqNzu0LEOeLKvnjvvest2d0\n",
    "* `pip install sktime` or `conda install sktime` or `uv add sktime`"
   ]
  },
  {
   "cell_type": "markdown",
   "metadata": {},
   "source": [
    "## add your algorithm and/or contribute\n",
    "* Join our discord, chat with community and devs https://discord.com/invite/54ACzaFsn7\n",
    "* Follow us on LinkedIn - regluar event schedule, Friday meet-ups\n",
    "* Contributor guide https://github.com/sktime/sktime/issues/1147 "
   ]
  },
  {
   "cell_type": "markdown",
   "metadata": {},
   "source": [
    "## opportunities\n",
    "* free mentoring, internships for junior scientists https://github.com/sktime/mentoring  \n",
    "* present at our meetup, every Friday – general time series or code topics welcome\n"
   ]
  },
  {
   "cell_type": "markdown",
   "metadata": {},
   "source": [
    "![](./img/esoc.png)"
   ]
  },
  {
   "cell_type": "markdown",
   "metadata": {},
   "source": [
    "![](./img/we_are_sktime.png)"
   ]
  }
 ],
 "metadata": {
  "kernelspec": {
   "display_name": "tutorial-haicon-prologue-day",
   "language": "python",
   "name": "python3"
  },
  "language_info": {
   "name": "python",
   "version": "3.13.3"
  }
 },
 "nbformat": 4,
 "nbformat_minor": 2
}
